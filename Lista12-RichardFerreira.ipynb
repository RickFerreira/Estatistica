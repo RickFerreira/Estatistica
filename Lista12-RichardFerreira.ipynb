{
 "cells": [
  {
   "cell_type": "markdown",
   "metadata": {},
   "source": [
    "<div class=\"alert alert-warning\">\n",
    "    <center>ESTATÍSTICA APLICADA</center>\n",
    "    <center>LISTA 12</center>\n",
    "    <center>ALUNO: Richard Ferreira Salviano</center>\n",
    "    <center>05/03/2022</center>\n",
    "</div>"
   ]
  },
  {
   "cell_type": "code",
   "execution_count": 71,
   "metadata": {},
   "outputs": [],
   "source": [
    "import pandas as pd\n",
    "import numpy as np\n",
    "import matplotlib.pyplot as plt"
   ]
  },
  {
   "cell_type": "code",
   "execution_count": 72,
   "metadata": {},
   "outputs": [],
   "source": [
    "dados1 = pd.read_csv('D:/jupyter/dados1.csv', encoding=\"utf-8\", sep =\";\", header=None)\n",
    "dados2 = pd.read_csv('D:/jupyter/dados2.csv', encoding=\"utf-8\", sep =\";\")\n",
    "dados3 = pd.read_excel('D:/jupyter/dados3.xls')"
   ]
  },
  {
   "cell_type": "code",
   "execution_count": 73,
   "metadata": {},
   "outputs": [],
   "source": [
    "def dist_frequencia_classes(entrada, nc='auto'):\n",
    "    \n",
    "    freq_absoluta,classes= np.histogram(entrada, bins=nc) \n",
    "    freq_absoluta = freq_absoluta.astype(int)\n",
    "    freq_relativa = np.around(freq_absoluta/freq_absoluta.sum()*100,decimals=2)\n",
    "    feeq_classe = np.cumsum(freq_absoluta).astype(int) \n",
    "    \n",
    "    classe_str = []\n",
    "    for i in range(len(classes)):\n",
    "        if i <= len(classes)-2:\n",
    "            classe_str.append('{:2.2f} |-- {:2.2f}' .format(classes[i],classes[i+1]))\n",
    "        else:\n",
    "            break        \n",
    "     \n",
    "    return pd.DataFrame({'Classes':classe_str, \n",
    "                         'freq Absoluta': freq_absoluta,\n",
    "                         'freq Relativa': freq_relativa,\n",
    "                         'Cumulativa': feeq_classe\n",
    "                        }).set_index('Classes')"
   ]
  },
  {
   "cell_type": "markdown",
   "metadata": {},
   "source": [
    "<div class=\"alert alert-block alert-info\">\n",
    "<center>Questão 1</center>\n",
    "</div>"
   ]
  },
  {
   "cell_type": "code",
   "execution_count": 74,
   "metadata": {},
   "outputs": [
    {
     "data": {
      "text/html": [
       "<div>\n",
       "<style scoped>\n",
       "    .dataframe tbody tr th:only-of-type {\n",
       "        vertical-align: middle;\n",
       "    }\n",
       "\n",
       "    .dataframe tbody tr th {\n",
       "        vertical-align: top;\n",
       "    }\n",
       "\n",
       "    .dataframe thead th {\n",
       "        text-align: right;\n",
       "    }\n",
       "</style>\n",
       "<table border=\"1\" class=\"dataframe\">\n",
       "  <thead>\n",
       "    <tr style=\"text-align: right;\">\n",
       "      <th></th>\n",
       "      <th>0</th>\n",
       "      <th>1</th>\n",
       "      <th>2</th>\n",
       "      <th>3</th>\n",
       "      <th>4</th>\n",
       "      <th>5</th>\n",
       "      <th>6</th>\n",
       "      <th>7</th>\n",
       "      <th>8</th>\n",
       "      <th>9</th>\n",
       "    </tr>\n",
       "  </thead>\n",
       "  <tbody>\n",
       "    <tr>\n",
       "      <th>0</th>\n",
       "      <td>3,5</td>\n",
       "      <td>4,0</td>\n",
       "      <td>5,5</td>\n",
       "      <td>6,0</td>\n",
       "      <td>5,0</td>\n",
       "      <td>5,5</td>\n",
       "      <td>5,0</td>\n",
       "      <td>5,5</td>\n",
       "      <td>4,0</td>\n",
       "      <td>10,0</td>\n",
       "    </tr>\n",
       "    <tr>\n",
       "      <th>1</th>\n",
       "      <td>6,5</td>\n",
       "      <td>9,5</td>\n",
       "      <td>4,0</td>\n",
       "      <td>7,0</td>\n",
       "      <td>7,5</td>\n",
       "      <td>3,0</td>\n",
       "      <td>4,5</td>\n",
       "      <td>5,0</td>\n",
       "      <td>2,5</td>\n",
       "      <td>6,0</td>\n",
       "    </tr>\n",
       "    <tr>\n",
       "      <th>2</th>\n",
       "      <td>5,0</td>\n",
       "      <td>6,5</td>\n",
       "      <td>3,5</td>\n",
       "      <td>4,5</td>\n",
       "      <td>8,5</td>\n",
       "      <td>4,0</td>\n",
       "      <td>8,0</td>\n",
       "      <td>7,0</td>\n",
       "      <td>6,0</td>\n",
       "      <td>7,5</td>\n",
       "    </tr>\n",
       "    <tr>\n",
       "      <th>3</th>\n",
       "      <td>8,5</td>\n",
       "      <td>6,0</td>\n",
       "      <td>9,0</td>\n",
       "      <td>6,0</td>\n",
       "      <td>6,5</td>\n",
       "      <td>7,5</td>\n",
       "      <td>5,5</td>\n",
       "      <td>6,5</td>\n",
       "      <td>8,0</td>\n",
       "      <td>8,5</td>\n",
       "    </tr>\n",
       "    <tr>\n",
       "      <th>4</th>\n",
       "      <td>4,5</td>\n",
       "      <td>7,5</td>\n",
       "      <td>8,0</td>\n",
       "      <td>3,0</td>\n",
       "      <td>4,0</td>\n",
       "      <td>8,0</td>\n",
       "      <td>4,5</td>\n",
       "      <td>5,5</td>\n",
       "      <td>6,0</td>\n",
       "      <td>6,0</td>\n",
       "    </tr>\n",
       "    <tr>\n",
       "      <th>5</th>\n",
       "      <td>7,5</td>\n",
       "      <td>3,5</td>\n",
       "      <td>3,0</td>\n",
       "      <td>7,0</td>\n",
       "      <td>1,5</td>\n",
       "      <td>4,5</td>\n",
       "      <td>10,0</td>\n",
       "      <td>5,5</td>\n",
       "      <td>2,5</td>\n",
       "      <td>10,0</td>\n",
       "    </tr>\n",
       "    <tr>\n",
       "      <th>6</th>\n",
       "      <td>4,0</td>\n",
       "      <td>6,5</td>\n",
       "      <td>7,5</td>\n",
       "      <td>5,5</td>\n",
       "      <td>7,0</td>\n",
       "      <td>7,5</td>\n",
       "      <td>6,0</td>\n",
       "      <td>6,5</td>\n",
       "      <td>6,5</td>\n",
       "      <td>5,5</td>\n",
       "    </tr>\n",
       "    <tr>\n",
       "      <th>7</th>\n",
       "      <td>6,5</td>\n",
       "      <td>5,0</td>\n",
       "      <td>5,5</td>\n",
       "      <td>7,5</td>\n",
       "      <td>8,0</td>\n",
       "      <td>6,5</td>\n",
       "      <td>5,0</td>\n",
       "      <td>7,0</td>\n",
       "      <td>6,0</td>\n",
       "      <td>5,5</td>\n",
       "    </tr>\n",
       "    <tr>\n",
       "      <th>8</th>\n",
       "      <td>3,0</td>\n",
       "      <td>5,0</td>\n",
       "      <td>3,5</td>\n",
       "      <td>6,0</td>\n",
       "      <td>6,5</td>\n",
       "      <td>6,0</td>\n",
       "      <td>8,0</td>\n",
       "      <td>5,5</td>\n",
       "      <td>7,5</td>\n",
       "      <td>6,0</td>\n",
       "    </tr>\n",
       "    <tr>\n",
       "      <th>9</th>\n",
       "      <td>2,5</td>\n",
       "      <td>7,5</td>\n",
       "      <td>9,0</td>\n",
       "      <td>6,0</td>\n",
       "      <td>6,5</td>\n",
       "      <td>3,5</td>\n",
       "      <td>4,5</td>\n",
       "      <td>7,0</td>\n",
       "      <td>5,0</td>\n",
       "      <td>5,0</td>\n",
       "    </tr>\n",
       "  </tbody>\n",
       "</table>\n",
       "</div>"
      ],
      "text/plain": [
       "     0    1    2    3    4    5     6    7    8     9\n",
       "0  3,5  4,0  5,5  6,0  5,0  5,5   5,0  5,5  4,0  10,0\n",
       "1  6,5  9,5  4,0  7,0  7,5  3,0   4,5  5,0  2,5   6,0\n",
       "2  5,0  6,5  3,5  4,5  8,5  4,0   8,0  7,0  6,0   7,5\n",
       "3  8,5  6,0  9,0  6,0  6,5  7,5   5,5  6,5  8,0   8,5\n",
       "4  4,5  7,5  8,0  3,0  4,0  8,0   4,5  5,5  6,0   6,0\n",
       "5  7,5  3,5  3,0  7,0  1,5  4,5  10,0  5,5  2,5  10,0\n",
       "6  4,0  6,5  7,5  5,5  7,0  7,5   6,0  6,5  6,5   5,5\n",
       "7  6,5  5,0  5,5  7,5  8,0  6,5   5,0  7,0  6,0   5,5\n",
       "8  3,0  5,0  3,5  6,0  6,5  6,0   8,0  5,5  7,5   6,0\n",
       "9  2,5  7,5  9,0  6,0  6,5  3,5   4,5  7,0  5,0   5,0"
      ]
     },
     "execution_count": 74,
     "metadata": {},
     "output_type": "execute_result"
    }
   ],
   "source": [
    "dados1"
   ]
  },
  {
   "cell_type": "code",
   "execution_count": 75,
   "metadata": {},
   "outputs": [
    {
     "data": {
      "text/plain": [
       "array(['3,5', '4,0', '5,5', '6,0', '5,0', '5,5', '5,0', '5,5', '4,0',\n",
       "       '10,0', '6,5', '9,5', '4,0', '7,0', '7,5', '3,0', '4,5', '5,0',\n",
       "       '2,5', '6,0', '5,0', '6,5', '3,5', '4,5', '8,5', '4,0', '8,0',\n",
       "       '7,0', '6,0', '7,5', '8,5', '6,0', '9,0', '6,0', '6,5', '7,5',\n",
       "       '5,5', '6,5', '8,0', '8,5', '4,5', '7,5', '8,0', '3,0', '4,0',\n",
       "       '8,0', '4,5', '5,5', '6,0', '6,0', '7,5', '3,5', '3,0', '7,0',\n",
       "       '1,5', '4,5', '10,0', '5,5', '2,5', '10,0', '4,0', '6,5', '7,5',\n",
       "       '5,5', '7,0', '7,5', '6,0', '6,5', '6,5', '5,5', '6,5', '5,0',\n",
       "       '5,5', '7,5', '8,0', '6,5', '5,0', '7,0', '6,0', '5,5', '3,0',\n",
       "       '5,0', '3,5', '6,0', '6,5', '6,0', '8,0', '5,5', '7,5', '6,0',\n",
       "       '2,5', '7,5', '9,0', '6,0', '6,5', '3,5', '4,5', '7,0', '5,0',\n",
       "       '5,0'], dtype=object)"
      ]
     },
     "execution_count": 75,
     "metadata": {},
     "output_type": "execute_result"
    }
   ],
   "source": [
    "data = dados1.values.reshape(-1)\n",
    "data"
   ]
  },
  {
   "cell_type": "code",
   "execution_count": 76,
   "metadata": {},
   "outputs": [],
   "source": [
    "alunos = []\n",
    "for i in range(1,101):\n",
    "    alunos.append(f\"ALuno {i}\")"
   ]
  },
  {
   "cell_type": "code",
   "execution_count": 77,
   "metadata": {},
   "outputs": [
    {
     "data": {
      "text/html": [
       "<div>\n",
       "<style scoped>\n",
       "    .dataframe tbody tr th:only-of-type {\n",
       "        vertical-align: middle;\n",
       "    }\n",
       "\n",
       "    .dataframe tbody tr th {\n",
       "        vertical-align: top;\n",
       "    }\n",
       "\n",
       "    .dataframe thead th {\n",
       "        text-align: right;\n",
       "    }\n",
       "</style>\n",
       "<table border=\"1\" class=\"dataframe\">\n",
       "  <thead>\n",
       "    <tr style=\"text-align: right;\">\n",
       "      <th></th>\n",
       "      <th>Aluno</th>\n",
       "      <th>Notas</th>\n",
       "    </tr>\n",
       "  </thead>\n",
       "  <tbody>\n",
       "    <tr>\n",
       "      <th>0</th>\n",
       "      <td>ALuno 1</td>\n",
       "      <td>3,5</td>\n",
       "    </tr>\n",
       "    <tr>\n",
       "      <th>1</th>\n",
       "      <td>ALuno 2</td>\n",
       "      <td>4,0</td>\n",
       "    </tr>\n",
       "    <tr>\n",
       "      <th>2</th>\n",
       "      <td>ALuno 3</td>\n",
       "      <td>5,5</td>\n",
       "    </tr>\n",
       "    <tr>\n",
       "      <th>3</th>\n",
       "      <td>ALuno 4</td>\n",
       "      <td>6,0</td>\n",
       "    </tr>\n",
       "    <tr>\n",
       "      <th>4</th>\n",
       "      <td>ALuno 5</td>\n",
       "      <td>5,0</td>\n",
       "    </tr>\n",
       "    <tr>\n",
       "      <th>...</th>\n",
       "      <td>...</td>\n",
       "      <td>...</td>\n",
       "    </tr>\n",
       "    <tr>\n",
       "      <th>95</th>\n",
       "      <td>ALuno 96</td>\n",
       "      <td>3,5</td>\n",
       "    </tr>\n",
       "    <tr>\n",
       "      <th>96</th>\n",
       "      <td>ALuno 97</td>\n",
       "      <td>4,5</td>\n",
       "    </tr>\n",
       "    <tr>\n",
       "      <th>97</th>\n",
       "      <td>ALuno 98</td>\n",
       "      <td>7,0</td>\n",
       "    </tr>\n",
       "    <tr>\n",
       "      <th>98</th>\n",
       "      <td>ALuno 99</td>\n",
       "      <td>5,0</td>\n",
       "    </tr>\n",
       "    <tr>\n",
       "      <th>99</th>\n",
       "      <td>ALuno 100</td>\n",
       "      <td>5,0</td>\n",
       "    </tr>\n",
       "  </tbody>\n",
       "</table>\n",
       "<p>100 rows × 2 columns</p>\n",
       "</div>"
      ],
      "text/plain": [
       "        Aluno Notas\n",
       "0     ALuno 1   3,5\n",
       "1     ALuno 2   4,0\n",
       "2     ALuno 3   5,5\n",
       "3     ALuno 4   6,0\n",
       "4     ALuno 5   5,0\n",
       "..        ...   ...\n",
       "95   ALuno 96   3,5\n",
       "96   ALuno 97   4,5\n",
       "97   ALuno 98   7,0\n",
       "98   ALuno 99   5,0\n",
       "99  ALuno 100   5,0\n",
       "\n",
       "[100 rows x 2 columns]"
      ]
     },
     "execution_count": 77,
     "metadata": {},
     "output_type": "execute_result"
    }
   ],
   "source": [
    "dicionario1 = {\"Aluno\": alunos, \"Notas\": data}\n",
    "df = pd.DataFrame(dicionario1)\n",
    "df"
   ]
  },
  {
   "cell_type": "code",
   "execution_count": 78,
   "metadata": {},
   "outputs": [],
   "source": [
    "distribuicaoFrequenciaClasses = df[\"Notas\"]"
   ]
  },
  {
   "cell_type": "code",
   "execution_count": 79,
   "metadata": {},
   "outputs": [
    {
     "data": {
      "text/plain": [
       "0     3,5\n",
       "1     4,0\n",
       "2     5,5\n",
       "3     6,0\n",
       "4     5,0\n",
       "     ... \n",
       "95    3,5\n",
       "96    4,5\n",
       "97    7,0\n",
       "98    5,0\n",
       "99    5,0\n",
       "Name: Notas, Length: 100, dtype: object"
      ]
     },
     "execution_count": 79,
     "metadata": {},
     "output_type": "execute_result"
    }
   ],
   "source": [
    "distribuicaoFrequenciaClasses"
   ]
  },
  {
   "cell_type": "code",
   "execution_count": 80,
   "metadata": {},
   "outputs": [
    {
     "data": {
      "image/png": "[encoded data removed]",
      "text/plain": [
       "<Figure size 432x288 with 1 Axes>"
      ]
     },
     "metadata": {
      "needs_background": "light"
     },
     "output_type": "display_data"
    }
   ],
   "source": [
    "fi, classes, x = plt.hist(dados1, bins='auto')\n",
    "plt.xticks(classes)\n",
    "plt.grid()"
   ]
  },
  {
   "cell_type": "markdown",
   "metadata": {},
   "source": [
    "<div class=\"alert alert-block alert-info\">\n",
    "<center>Questão 2</center>\n",
    "</div>"
   ]
  },
  {
   "cell_type": "markdown",
   "metadata": {},
   "source": [
    "<div class=\"alert alert-success\">\n",
    "A)\n",
    "</div>"
   ]
  },
  {
   "cell_type": "markdown",
   "metadata": {},
   "source": [
    "<p>Bairro = Qualitativa nominal</p>\n",
    "<p>Tipo = Qualitativa nominal</p>\n",
    "<p>N de quartos = Quantitativa discreta</p>\n",
    "<p>Preço = Quantitativa contínua</p>"
   ]
  },
  {
   "cell_type": "markdown",
   "metadata": {},
   "source": [
    "<div class=\"alert alert-success\">\n",
    "B)\n",
    "</div>"
   ]
  },
  {
   "cell_type": "markdown",
   "metadata": {},
   "source": [
    "Frequência de Bairro:"
   ]
  },
  {
   "cell_type": "code",
   "execution_count": 81,
   "metadata": {},
   "outputs": [
    {
     "data": {
      "text/html": [
       "<div>\n",
       "<style scoped>\n",
       "    .dataframe tbody tr th:only-of-type {\n",
       "        vertical-align: middle;\n",
       "    }\n",
       "\n",
       "    .dataframe tbody tr th {\n",
       "        vertical-align: top;\n",
       "    }\n",
       "\n",
       "    .dataframe thead th {\n",
       "        text-align: right;\n",
       "    }\n",
       "</style>\n",
       "<table border=\"1\" class=\"dataframe\">\n",
       "  <thead>\n",
       "    <tr style=\"text-align: right;\">\n",
       "      <th></th>\n",
       "      <th>Freq Absoluta</th>\n",
       "      <th>Freq Relativa %</th>\n",
       "      <th>Freq Cumulativa</th>\n",
       "    </tr>\n",
       "  </thead>\n",
       "  <tbody>\n",
       "    <tr>\n",
       "      <th>Barra</th>\n",
       "      <td>4</td>\n",
       "      <td>14.814815</td>\n",
       "      <td>4</td>\n",
       "    </tr>\n",
       "    <tr>\n",
       "      <th>Tijuca</th>\n",
       "      <td>3</td>\n",
       "      <td>11.111111</td>\n",
       "      <td>7</td>\n",
       "    </tr>\n",
       "    <tr>\n",
       "      <th>Copacabana</th>\n",
       "      <td>3</td>\n",
       "      <td>11.111111</td>\n",
       "      <td>10</td>\n",
       "    </tr>\n",
       "    <tr>\n",
       "      <th>Laranjeiras</th>\n",
       "      <td>2</td>\n",
       "      <td>7.407407</td>\n",
       "      <td>12</td>\n",
       "    </tr>\n",
       "    <tr>\n",
       "      <th>Flamengo</th>\n",
       "      <td>2</td>\n",
       "      <td>7.407407</td>\n",
       "      <td>14</td>\n",
       "    </tr>\n",
       "    <tr>\n",
       "      <th>Leblon</th>\n",
       "      <td>2</td>\n",
       "      <td>7.407407</td>\n",
       "      <td>16</td>\n",
       "    </tr>\n",
       "    <tr>\n",
       "      <th>Centro</th>\n",
       "      <td>1</td>\n",
       "      <td>3.703704</td>\n",
       "      <td>17</td>\n",
       "    </tr>\n",
       "    <tr>\n",
       "      <th>Recreio</th>\n",
       "      <td>1</td>\n",
       "      <td>3.703704</td>\n",
       "      <td>18</td>\n",
       "    </tr>\n",
       "    <tr>\n",
       "      <th>Ipanema</th>\n",
       "      <td>1</td>\n",
       "      <td>3.703704</td>\n",
       "      <td>19</td>\n",
       "    </tr>\n",
       "    <tr>\n",
       "      <th>Botafogo</th>\n",
       "      <td>1</td>\n",
       "      <td>3.703704</td>\n",
       "      <td>20</td>\n",
       "    </tr>\n",
       "    <tr>\n",
       "      <th>São Conrado</th>\n",
       "      <td>1</td>\n",
       "      <td>3.703704</td>\n",
       "      <td>21</td>\n",
       "    </tr>\n",
       "    <tr>\n",
       "      <th>Lagoa</th>\n",
       "      <td>1</td>\n",
       "      <td>3.703704</td>\n",
       "      <td>22</td>\n",
       "    </tr>\n",
       "    <tr>\n",
       "      <th>Catete</th>\n",
       "      <td>1</td>\n",
       "      <td>3.703704</td>\n",
       "      <td>23</td>\n",
       "    </tr>\n",
       "    <tr>\n",
       "      <th>Maracanã</th>\n",
       "      <td>1</td>\n",
       "      <td>3.703704</td>\n",
       "      <td>24</td>\n",
       "    </tr>\n",
       "    <tr>\n",
       "      <th>Gávea</th>\n",
       "      <td>1</td>\n",
       "      <td>3.703704</td>\n",
       "      <td>25</td>\n",
       "    </tr>\n",
       "    <tr>\n",
       "      <th>Vila Isabel</th>\n",
       "      <td>1</td>\n",
       "      <td>3.703704</td>\n",
       "      <td>26</td>\n",
       "    </tr>\n",
       "    <tr>\n",
       "      <th>Jacarepaguá</th>\n",
       "      <td>1</td>\n",
       "      <td>3.703704</td>\n",
       "      <td>27</td>\n",
       "    </tr>\n",
       "  </tbody>\n",
       "</table>\n",
       "</div>"
      ],
      "text/plain": [
       "             Freq Absoluta  Freq Relativa %  Freq Cumulativa\n",
       "Barra                    4        14.814815                4\n",
       "Tijuca                   3        11.111111                7\n",
       "Copacabana               3        11.111111               10\n",
       "Laranjeiras              2         7.407407               12\n",
       "Flamengo                 2         7.407407               14\n",
       "Leblon                   2         7.407407               16\n",
       "Centro                   1         3.703704               17\n",
       "Recreio                  1         3.703704               18\n",
       "Ipanema                  1         3.703704               19\n",
       "Botafogo                 1         3.703704               20\n",
       "São Conrado              1         3.703704               21\n",
       "Lagoa                    1         3.703704               22\n",
       "Catete                   1         3.703704               23\n",
       "Maracanã                 1         3.703704               24\n",
       "Gávea                    1         3.703704               25\n",
       "Vila Isabel              1         3.703704               26\n",
       "Jacarepaguá              1         3.703704               27"
      ]
     },
     "execution_count": 81,
     "metadata": {},
     "output_type": "execute_result"
    }
   ],
   "source": [
    "frequenciaRelativa = dados2[\"Bairro\"].value_counts(normalize=True)*100\n",
    "\n",
    "frequenciaBairro = {\"Freq Absoluta\": dados2[\"Bairro\"].value_counts(), \n",
    "       \"Freq Relativa %\": dados2[\"Bairro\"].value_counts(normalize=True)*100,\n",
    "            \"Freq Cumulativa\": np.cumsum(dados2[\"Bairro\"].value_counts())}\n",
    "freqBairro = pd.DataFrame(frequenciaBairro)\n",
    "freqBairro"
   ]
  },
  {
   "cell_type": "markdown",
   "metadata": {},
   "source": [
    "Frequência de Tipo:"
   ]
  },
  {
   "cell_type": "code",
   "execution_count": 82,
   "metadata": {},
   "outputs": [
    {
     "data": {
      "text/html": [
       "<div>\n",
       "<style scoped>\n",
       "    .dataframe tbody tr th:only-of-type {\n",
       "        vertical-align: middle;\n",
       "    }\n",
       "\n",
       "    .dataframe tbody tr th {\n",
       "        vertical-align: top;\n",
       "    }\n",
       "\n",
       "    .dataframe thead th {\n",
       "        text-align: right;\n",
       "    }\n",
       "</style>\n",
       "<table border=\"1\" class=\"dataframe\">\n",
       "  <thead>\n",
       "    <tr style=\"text-align: right;\">\n",
       "      <th></th>\n",
       "      <th>Freq Absoluta</th>\n",
       "      <th>Freq Relativa %</th>\n",
       "      <th>Freq Cumulativa</th>\n",
       "    </tr>\n",
       "  </thead>\n",
       "  <tbody>\n",
       "    <tr>\n",
       "      <th>Apto.</th>\n",
       "      <td>20</td>\n",
       "      <td>74.074074</td>\n",
       "      <td>20</td>\n",
       "    </tr>\n",
       "    <tr>\n",
       "      <th>Cobt.</th>\n",
       "      <td>3</td>\n",
       "      <td>11.111111</td>\n",
       "      <td>23</td>\n",
       "    </tr>\n",
       "    <tr>\n",
       "      <th>Sala</th>\n",
       "      <td>2</td>\n",
       "      <td>7.407407</td>\n",
       "      <td>25</td>\n",
       "    </tr>\n",
       "    <tr>\n",
       "      <th>Casa</th>\n",
       "      <td>2</td>\n",
       "      <td>7.407407</td>\n",
       "      <td>27</td>\n",
       "    </tr>\n",
       "  </tbody>\n",
       "</table>\n",
       "</div>"
      ],
      "text/plain": [
       "       Freq Absoluta  Freq Relativa %  Freq Cumulativa\n",
       "Apto.             20        74.074074               20\n",
       "Cobt.              3        11.111111               23\n",
       "Sala               2         7.407407               25\n",
       "Casa               2         7.407407               27"
      ]
     },
     "execution_count": 82,
     "metadata": {},
     "output_type": "execute_result"
    }
   ],
   "source": [
    "frequenciaTipo = {\"Freq Absoluta\": dados2[\"Tipo\"].value_counts(), \n",
    "       \"Freq Relativa %\": dados2[\"Tipo\"].value_counts(normalize=True)*100,\n",
    "            \"Freq Cumulativa\": np.cumsum(dados2[\"Tipo\"].value_counts())}\n",
    "freqTipo = pd.DataFrame(frequenciaTipo)\n",
    "freqTipo"
   ]
  },
  {
   "cell_type": "markdown",
   "metadata": {},
   "source": [
    "Frequência de Número de quartos:"
   ]
  },
  {
   "cell_type": "code",
   "execution_count": 83,
   "metadata": {},
   "outputs": [
    {
     "data": {
      "text/html": [
       "<div>\n",
       "<style scoped>\n",
       "    .dataframe tbody tr th:only-of-type {\n",
       "        vertical-align: middle;\n",
       "    }\n",
       "\n",
       "    .dataframe tbody tr th {\n",
       "        vertical-align: top;\n",
       "    }\n",
       "\n",
       "    .dataframe thead th {\n",
       "        text-align: right;\n",
       "    }\n",
       "</style>\n",
       "<table border=\"1\" class=\"dataframe\">\n",
       "  <thead>\n",
       "    <tr style=\"text-align: right;\">\n",
       "      <th></th>\n",
       "      <th>Freq Absoluta</th>\n",
       "      <th>Freq Relativa %</th>\n",
       "      <th>Freq Cumulativa</th>\n",
       "    </tr>\n",
       "  </thead>\n",
       "  <tbody>\n",
       "    <tr>\n",
       "      <th>2</th>\n",
       "      <td>9</td>\n",
       "      <td>33.333333</td>\n",
       "      <td>9</td>\n",
       "    </tr>\n",
       "    <tr>\n",
       "      <th>3</th>\n",
       "      <td>8</td>\n",
       "      <td>29.629630</td>\n",
       "      <td>17</td>\n",
       "    </tr>\n",
       "    <tr>\n",
       "      <th>&gt;=4</th>\n",
       "      <td>6</td>\n",
       "      <td>22.222222</td>\n",
       "      <td>23</td>\n",
       "    </tr>\n",
       "    <tr>\n",
       "      <th>1</th>\n",
       "      <td>3</td>\n",
       "      <td>11.111111</td>\n",
       "      <td>26</td>\n",
       "    </tr>\n",
       "    <tr>\n",
       "      <th>0</th>\n",
       "      <td>1</td>\n",
       "      <td>3.703704</td>\n",
       "      <td>27</td>\n",
       "    </tr>\n",
       "  </tbody>\n",
       "</table>\n",
       "</div>"
      ],
      "text/plain": [
       "     Freq Absoluta  Freq Relativa %  Freq Cumulativa\n",
       "2                9        33.333333                9\n",
       "3                8        29.629630               17\n",
       ">=4              6        22.222222               23\n",
       "1                3        11.111111               26\n",
       "0                1         3.703704               27"
      ]
     },
     "execution_count": 83,
     "metadata": {},
     "output_type": "execute_result"
    }
   ],
   "source": [
    "frequenciaQuartos = {\"Freq Absoluta\": dados2[\"N de quartos\"].value_counts(), \n",
    "       \"Freq Relativa %\": dados2[\"N de quartos\"].value_counts(normalize=True)*100,\n",
    "            \"Freq Cumulativa\": np.cumsum(dados2[\"N de quartos\"].value_counts())}\n",
    "freqQuartos = pd.DataFrame(frequenciaQuartos)\n",
    "freqQuartos"
   ]
  },
  {
   "cell_type": "markdown",
   "metadata": {},
   "source": [
    "Frequência do Preço:"
   ]
  },
  {
   "cell_type": "code",
   "execution_count": 84,
   "metadata": {},
   "outputs": [
    {
     "data": {
      "text/html": [
       "<div>\n",
       "<style scoped>\n",
       "    .dataframe tbody tr th:only-of-type {\n",
       "        vertical-align: middle;\n",
       "    }\n",
       "\n",
       "    .dataframe tbody tr th {\n",
       "        vertical-align: top;\n",
       "    }\n",
       "\n",
       "    .dataframe thead th {\n",
       "        text-align: right;\n",
       "    }\n",
       "</style>\n",
       "<table border=\"1\" class=\"dataframe\">\n",
       "  <thead>\n",
       "    <tr style=\"text-align: right;\">\n",
       "      <th></th>\n",
       "      <th>Freq Absoluta</th>\n",
       "      <th>Freq Relativa %</th>\n",
       "      <th>Freq Cumulativa</th>\n",
       "    </tr>\n",
       "  </thead>\n",
       "  <tbody>\n",
       "    <tr>\n",
       "      <th>210</th>\n",
       "      <td>2</td>\n",
       "      <td>7.407407</td>\n",
       "      <td>2</td>\n",
       "    </tr>\n",
       "    <tr>\n",
       "      <th>200</th>\n",
       "      <td>2</td>\n",
       "      <td>7.407407</td>\n",
       "      <td>4</td>\n",
       "    </tr>\n",
       "    <tr>\n",
       "      <th>290</th>\n",
       "      <td>2</td>\n",
       "      <td>7.407407</td>\n",
       "      <td>6</td>\n",
       "    </tr>\n",
       "    <tr>\n",
       "      <th>320</th>\n",
       "      <td>1</td>\n",
       "      <td>3.703704</td>\n",
       "      <td>7</td>\n",
       "    </tr>\n",
       "    <tr>\n",
       "      <th>220</th>\n",
       "      <td>1</td>\n",
       "      <td>3.703704</td>\n",
       "      <td>8</td>\n",
       "    </tr>\n",
       "    <tr>\n",
       "      <th>219</th>\n",
       "      <td>1</td>\n",
       "      <td>3.703704</td>\n",
       "      <td>9</td>\n",
       "    </tr>\n",
       "    <tr>\n",
       "      <th>90</th>\n",
       "      <td>1</td>\n",
       "      <td>3.703704</td>\n",
       "      <td>10</td>\n",
       "    </tr>\n",
       "    <tr>\n",
       "      <th>254</th>\n",
       "      <td>1</td>\n",
       "      <td>3.703704</td>\n",
       "      <td>11</td>\n",
       "    </tr>\n",
       "    <tr>\n",
       "      <th>280</th>\n",
       "      <td>1</td>\n",
       "      <td>3.703704</td>\n",
       "      <td>12</td>\n",
       "    </tr>\n",
       "    <tr>\n",
       "      <th>340</th>\n",
       "      <td>1</td>\n",
       "      <td>3.703704</td>\n",
       "      <td>13</td>\n",
       "    </tr>\n",
       "    <tr>\n",
       "      <th>110</th>\n",
       "      <td>1</td>\n",
       "      <td>3.703704</td>\n",
       "      <td>14</td>\n",
       "    </tr>\n",
       "    <tr>\n",
       "      <th>180</th>\n",
       "      <td>1</td>\n",
       "      <td>3.703704</td>\n",
       "      <td>15</td>\n",
       "    </tr>\n",
       "    <tr>\n",
       "      <th>430</th>\n",
       "      <td>1</td>\n",
       "      <td>3.703704</td>\n",
       "      <td>16</td>\n",
       "    </tr>\n",
       "    <tr>\n",
       "      <th>338</th>\n",
       "      <td>1</td>\n",
       "      <td>3.703704</td>\n",
       "      <td>17</td>\n",
       "    </tr>\n",
       "    <tr>\n",
       "      <th>240</th>\n",
       "      <td>1</td>\n",
       "      <td>3.703704</td>\n",
       "      <td>18</td>\n",
       "    </tr>\n",
       "    <tr>\n",
       "      <th>270</th>\n",
       "      <td>1</td>\n",
       "      <td>3.703704</td>\n",
       "      <td>19</td>\n",
       "    </tr>\n",
       "    <tr>\n",
       "      <th>370</th>\n",
       "      <td>1</td>\n",
       "      <td>3.703704</td>\n",
       "      <td>20</td>\n",
       "    </tr>\n",
       "    <tr>\n",
       "      <th>250</th>\n",
       "      <td>1</td>\n",
       "      <td>3.703704</td>\n",
       "      <td>21</td>\n",
       "    </tr>\n",
       "    <tr>\n",
       "      <th>330</th>\n",
       "      <td>1</td>\n",
       "      <td>3.703704</td>\n",
       "      <td>22</td>\n",
       "    </tr>\n",
       "    <tr>\n",
       "      <th>276</th>\n",
       "      <td>1</td>\n",
       "      <td>3.703704</td>\n",
       "      <td>23</td>\n",
       "    </tr>\n",
       "    <tr>\n",
       "      <th>230</th>\n",
       "      <td>1</td>\n",
       "      <td>3.703704</td>\n",
       "      <td>24</td>\n",
       "    </tr>\n",
       "    <tr>\n",
       "      <th>165</th>\n",
       "      <td>1</td>\n",
       "      <td>3.703704</td>\n",
       "      <td>25</td>\n",
       "    </tr>\n",
       "    <tr>\n",
       "      <th>260</th>\n",
       "      <td>1</td>\n",
       "      <td>3.703704</td>\n",
       "      <td>26</td>\n",
       "    </tr>\n",
       "    <tr>\n",
       "      <th>158</th>\n",
       "      <td>1</td>\n",
       "      <td>3.703704</td>\n",
       "      <td>27</td>\n",
       "    </tr>\n",
       "  </tbody>\n",
       "</table>\n",
       "</div>"
      ],
      "text/plain": [
       "     Freq Absoluta  Freq Relativa %  Freq Cumulativa\n",
       "210              2         7.407407                2\n",
       "200              2         7.407407                4\n",
       "290              2         7.407407                6\n",
       "320              1         3.703704                7\n",
       "220              1         3.703704                8\n",
       "219              1         3.703704                9\n",
       "90               1         3.703704               10\n",
       "254              1         3.703704               11\n",
       "280              1         3.703704               12\n",
       "340              1         3.703704               13\n",
       "110              1         3.703704               14\n",
       "180              1         3.703704               15\n",
       "430              1         3.703704               16\n",
       "338              1         3.703704               17\n",
       "240              1         3.703704               18\n",
       "270              1         3.703704               19\n",
       "370              1         3.703704               20\n",
       "250              1         3.703704               21\n",
       "330              1         3.703704               22\n",
       "276              1         3.703704               23\n",
       "230              1         3.703704               24\n",
       "165              1         3.703704               25\n",
       "260              1         3.703704               26\n",
       "158              1         3.703704               27"
      ]
     },
     "execution_count": 84,
     "metadata": {},
     "output_type": "execute_result"
    }
   ],
   "source": [
    "frequenciaTipo = {\"Freq Absoluta\": dados2[\"Preço (mil)\"].value_counts(), \n",
    "       \"Freq Relativa %\": dados2[\"Preço (mil)\"].value_counts(normalize=True)*100,\n",
    "            \"Freq Cumulativa\": np.cumsum(dados2[\"Preço (mil)\"].value_counts())}\n",
    "freqTipo = pd.DataFrame(frequenciaTipo)\n",
    "freqTipo"
   ]
  },
  {
   "cell_type": "markdown",
   "metadata": {},
   "source": [
    "<div class=\"alert alert-success\">\n",
    "C)\n",
    "</div>"
   ]
  },
  {
   "cell_type": "code",
   "execution_count": 85,
   "metadata": {},
   "outputs": [],
   "source": [
    "%matplotlib inline"
   ]
  },
  {
   "cell_type": "code",
   "execution_count": 86,
   "metadata": {},
   "outputs": [
    {
     "data": {
      "image/png": "[encoded data removed]",
      "text/plain": [
       "<Figure size 432x288 with 1 Axes>"
      ]
     },
     "metadata": {
      "needs_background": "light"
     },
     "output_type": "display_data"
    }
   ],
   "source": [
    "dados2[\"Bairro\"].value_counts(ascending = True).plot.bar(title = \"Bairros\")\n",
    "plt.grid()"
   ]
  },
  {
   "cell_type": "code",
   "execution_count": 87,
   "metadata": {},
   "outputs": [
    {
     "data": {
      "image/png": "[encoded data removed]",
      "text/plain": [
       "<Figure size 432x288 with 1 Axes>"
      ]
     },
     "metadata": {
      "needs_background": "light"
     },
     "output_type": "display_data"
    }
   ],
   "source": [
    "dados2[\"Tipo\"].value_counts(ascending = True).plot.bar(title = \"Tipo\")\n",
    "plt.grid()"
   ]
  },
  {
   "cell_type": "code",
   "execution_count": 88,
   "metadata": {},
   "outputs": [
    {
     "data": {
      "image/png": "[encoded data removed]",
      "text/plain": [
       "<Figure size 432x288 with 1 Axes>"
      ]
     },
     "metadata": {
      "needs_background": "light"
     },
     "output_type": "display_data"
    }
   ],
   "source": [
    "dados2[\"N de quartos\"].value_counts(ascending = True).plot.bar(title = \"N de quartos\")\n",
    "plt.grid()"
   ]
  },
  {
   "cell_type": "code",
   "execution_count": 89,
   "metadata": {},
   "outputs": [
    {
     "data": {
      "image/png": "[encoded data removed]",
      "text/plain": [
       "<Figure size 432x288 with 1 Axes>"
      ]
     },
     "metadata": {
      "needs_background": "light"
     },
     "output_type": "display_data"
    }
   ],
   "source": [
    "f2, classes2, x = plt.hist(dados2[\"Preço (mil)\"],bins = \"auto\")\n",
    "plt.xticks(classes2)\n",
    "plt.yticks(f2)\n",
    "plt.grid()"
   ]
  },
  {
   "cell_type": "markdown",
   "metadata": {},
   "source": [
    "<div class=\"alert alert-block alert-info\">\n",
    "<center>Questão 3</center>\n",
    "</div>"
   ]
  },
  {
   "cell_type": "markdown",
   "metadata": {},
   "source": [
    "<div class=\"alert alert-success\">\n",
    "A)\n",
    "</div>"
   ]
  },
  {
   "cell_type": "markdown",
   "metadata": {},
   "source": [
    "<p>Turma: Qualitativa nominal</p>\n",
    "<p>Gênero: Qualitativa nominal</p>\n",
    "<p>Idade: Quantitativa discreta</p>\n",
    "<p>Alt: Quantitativa contínua</p>\n",
    "<p>Peso: Quantitativa contínua</p>\n",
    "<p>Filhos: Quantitativa discreta</p>\n",
    "<p>Fuma: Qualitativa nominal</p>\n",
    "<p>Tolr: Qualitativa ordinal</p>\n",
    "<p>Exerc: Quantitativa discreta</p>\n",
    "<p>Cine: Quantitativa discreta</p>\n",
    "<p>OpGine: Qualitativa ordinal</p>\n",
    "<p>TV: Quantitativa discreta</p>\n",
    "<p>OpTV: Qualitativa ordinal</p>"
   ]
  },
  {
   "cell_type": "markdown",
   "metadata": {},
   "source": [
    "<div class=\"alert alert-success\">\n",
    "B)\n",
    "</div>"
   ]
  },
  {
   "cell_type": "markdown",
   "metadata": {},
   "source": [
    "Frequência de Turma:"
   ]
  },
  {
   "cell_type": "code",
   "execution_count": 93,
   "metadata": {},
   "outputs": [
    {
     "data": {
      "text/html": [
       "<div>\n",
       "<style scoped>\n",
       "    .dataframe tbody tr th:only-of-type {\n",
       "        vertical-align: middle;\n",
       "    }\n",
       "\n",
       "    .dataframe tbody tr th {\n",
       "        vertical-align: top;\n",
       "    }\n",
       "\n",
       "    .dataframe thead th {\n",
       "        text-align: right;\n",
       "    }\n",
       "</style>\n",
       "<table border=\"1\" class=\"dataframe\">\n",
       "  <thead>\n",
       "    <tr style=\"text-align: right;\">\n",
       "      <th></th>\n",
       "      <th>Freq Absoluta</th>\n",
       "      <th>Freq Relativa %</th>\n",
       "      <th>Freq Cumulativa</th>\n",
       "    </tr>\n",
       "  </thead>\n",
       "  <tbody>\n",
       "    <tr>\n",
       "      <th>A</th>\n",
       "      <td>26</td>\n",
       "      <td>52.0</td>\n",
       "      <td>26</td>\n",
       "    </tr>\n",
       "    <tr>\n",
       "      <th>B</th>\n",
       "      <td>24</td>\n",
       "      <td>48.0</td>\n",
       "      <td>50</td>\n",
       "    </tr>\n",
       "  </tbody>\n",
       "</table>\n",
       "</div>"
      ],
      "text/plain": [
       "   Freq Absoluta  Freq Relativa %  Freq Cumulativa\n",
       "A             26             52.0               26\n",
       "B             24             48.0               50"
      ]
     },
     "execution_count": 93,
     "metadata": {},
     "output_type": "execute_result"
    }
   ],
   "source": [
    "frequenciaTurma = {\"Freq Absoluta\": dados3[\"Turma\"].value_counts(), \n",
    "       \"Freq Relativa %\": dados3[\"Turma\"].value_counts(normalize=True)*100,\n",
    "            \"Freq Cumulativa\": np.cumsum(dados3[\"Turma\"].value_counts())}\n",
    "freqTurma = pd.DataFrame (frequenciaTurma)\n",
    "freqTurma"
   ]
  },
  {
   "cell_type": "markdown",
   "metadata": {},
   "source": [
    "Frequência de Sexo:"
   ]
  },
  {
   "cell_type": "code",
   "execution_count": 94,
   "metadata": {},
   "outputs": [
    {
     "data": {
      "text/html": [
       "<div>\n",
       "<style scoped>\n",
       "    .dataframe tbody tr th:only-of-type {\n",
       "        vertical-align: middle;\n",
       "    }\n",
       "\n",
       "    .dataframe tbody tr th {\n",
       "        vertical-align: top;\n",
       "    }\n",
       "\n",
       "    .dataframe thead th {\n",
       "        text-align: right;\n",
       "    }\n",
       "</style>\n",
       "<table border=\"1\" class=\"dataframe\">\n",
       "  <thead>\n",
       "    <tr style=\"text-align: right;\">\n",
       "      <th></th>\n",
       "      <th>Freq Absoluta</th>\n",
       "      <th>Freq Relativa %</th>\n",
       "      <th>Freq Cumulativa</th>\n",
       "    </tr>\n",
       "  </thead>\n",
       "  <tbody>\n",
       "    <tr>\n",
       "      <th>F</th>\n",
       "      <td>37</td>\n",
       "      <td>74.0</td>\n",
       "      <td>37</td>\n",
       "    </tr>\n",
       "    <tr>\n",
       "      <th>M</th>\n",
       "      <td>13</td>\n",
       "      <td>26.0</td>\n",
       "      <td>50</td>\n",
       "    </tr>\n",
       "  </tbody>\n",
       "</table>\n",
       "</div>"
      ],
      "text/plain": [
       "   Freq Absoluta  Freq Relativa %  Freq Cumulativa\n",
       "F             37             74.0               37\n",
       "M             13             26.0               50"
      ]
     },
     "execution_count": 94,
     "metadata": {},
     "output_type": "execute_result"
    }
   ],
   "source": [
    "frequenciaSexo = {\"Freq Absoluta\": dados3[\"Sexo\"].value_counts(), \n",
    "       \"Freq Relativa %\": dados3[\"Sexo\"].value_counts(normalize=True)*100,\n",
    "            \"Freq Cumulativa\": np.cumsum(dados3[\"Sexo\"].value_counts())}\n",
    "freqSexo = pd.DataFrame(frequenciaSexo)\n",
    "freqSexo"
   ]
  },
  {
   "cell_type": "markdown",
   "metadata": {},
   "source": [
    "Frequência de Idade:"
   ]
  },
  {
   "cell_type": "code",
   "execution_count": 95,
   "metadata": {},
   "outputs": [
    {
     "data": {
      "text/html": [
       "<div>\n",
       "<style scoped>\n",
       "    .dataframe tbody tr th:only-of-type {\n",
       "        vertical-align: middle;\n",
       "    }\n",
       "\n",
       "    .dataframe tbody tr th {\n",
       "        vertical-align: top;\n",
       "    }\n",
       "\n",
       "    .dataframe thead th {\n",
       "        text-align: right;\n",
       "    }\n",
       "</style>\n",
       "<table border=\"1\" class=\"dataframe\">\n",
       "  <thead>\n",
       "    <tr style=\"text-align: right;\">\n",
       "      <th></th>\n",
       "      <th>Notas</th>\n",
       "    </tr>\n",
       "  </thead>\n",
       "  <tbody>\n",
       "    <tr>\n",
       "      <th>0</th>\n",
       "      <td>3,5</td>\n",
       "    </tr>\n",
       "    <tr>\n",
       "      <th>1</th>\n",
       "      <td>4,0</td>\n",
       "    </tr>\n",
       "    <tr>\n",
       "      <th>2</th>\n",
       "      <td>5,5</td>\n",
       "    </tr>\n",
       "    <tr>\n",
       "      <th>3</th>\n",
       "      <td>6,0</td>\n",
       "    </tr>\n",
       "    <tr>\n",
       "      <th>4</th>\n",
       "      <td>5,0</td>\n",
       "    </tr>\n",
       "    <tr>\n",
       "      <th>...</th>\n",
       "      <td>...</td>\n",
       "    </tr>\n",
       "    <tr>\n",
       "      <th>95</th>\n",
       "      <td>3,5</td>\n",
       "    </tr>\n",
       "    <tr>\n",
       "      <th>96</th>\n",
       "      <td>4,5</td>\n",
       "    </tr>\n",
       "    <tr>\n",
       "      <th>97</th>\n",
       "      <td>7,0</td>\n",
       "    </tr>\n",
       "    <tr>\n",
       "      <th>98</th>\n",
       "      <td>5,0</td>\n",
       "    </tr>\n",
       "    <tr>\n",
       "      <th>99</th>\n",
       "      <td>5,0</td>\n",
       "    </tr>\n",
       "  </tbody>\n",
       "</table>\n",
       "<p>100 rows × 1 columns</p>\n",
       "</div>"
      ],
      "text/plain": [
       "   Notas\n",
       "0    3,5\n",
       "1    4,0\n",
       "2    5,5\n",
       "3    6,0\n",
       "4    5,0\n",
       "..   ...\n",
       "95   3,5\n",
       "96   4,5\n",
       "97   7,0\n",
       "98   5,0\n",
       "99   5,0\n",
       "\n",
       "[100 rows x 1 columns]"
      ]
     },
     "execution_count": 95,
     "metadata": {},
     "output_type": "execute_result"
    }
   ],
   "source": [
    "disttribuicaoFrequenciaClasses = {\"Freq Absoluta\": dados3[\"Idade\"].value_counts(), \n",
    "       \"Freq Relativa %\": dados3[\"Idade\"].value_counts(normalize=True)*100,\n",
    "            \"Freq Cumulativa\": np.cumsum(dados3[\"Idade\"].value_counts())}\n",
    "distFrequenciaClasses = pd.DataFrame(distribuicaoFrequenciaClasses)\n",
    "distFrequenciaClasses"
   ]
  },
  {
   "cell_type": "markdown",
   "metadata": {},
   "source": [
    "Frequência de Alt:"
   ]
  },
  {
   "cell_type": "code",
   "execution_count": 96,
   "metadata": {},
   "outputs": [
    {
     "data": {
      "text/html": [
       "<div>\n",
       "<style scoped>\n",
       "    .dataframe tbody tr th:only-of-type {\n",
       "        vertical-align: middle;\n",
       "    }\n",
       "\n",
       "    .dataframe tbody tr th {\n",
       "        vertical-align: top;\n",
       "    }\n",
       "\n",
       "    .dataframe thead th {\n",
       "        text-align: right;\n",
       "    }\n",
       "</style>\n",
       "<table border=\"1\" class=\"dataframe\">\n",
       "  <thead>\n",
       "    <tr style=\"text-align: right;\">\n",
       "      <th></th>\n",
       "      <th>Freq Absoluta</th>\n",
       "      <th>Freq Relativa %</th>\n",
       "      <th>Freq Cumulativa</th>\n",
       "    </tr>\n",
       "  </thead>\n",
       "  <tbody>\n",
       "    <tr>\n",
       "      <th>1.70</th>\n",
       "      <td>6</td>\n",
       "      <td>12.0</td>\n",
       "      <td>6</td>\n",
       "    </tr>\n",
       "    <tr>\n",
       "      <th>1.60</th>\n",
       "      <td>5</td>\n",
       "      <td>10.0</td>\n",
       "      <td>11</td>\n",
       "    </tr>\n",
       "    <tr>\n",
       "      <th>1.65</th>\n",
       "      <td>4</td>\n",
       "      <td>8.0</td>\n",
       "      <td>15</td>\n",
       "    </tr>\n",
       "    <tr>\n",
       "      <th>1.55</th>\n",
       "      <td>3</td>\n",
       "      <td>6.0</td>\n",
       "      <td>18</td>\n",
       "    </tr>\n",
       "    <tr>\n",
       "      <th>1.62</th>\n",
       "      <td>3</td>\n",
       "      <td>6.0</td>\n",
       "      <td>21</td>\n",
       "    </tr>\n",
       "    <tr>\n",
       "      <th>1.85</th>\n",
       "      <td>3</td>\n",
       "      <td>6.0</td>\n",
       "      <td>24</td>\n",
       "    </tr>\n",
       "    <tr>\n",
       "      <th>1.80</th>\n",
       "      <td>2</td>\n",
       "      <td>4.0</td>\n",
       "      <td>26</td>\n",
       "    </tr>\n",
       "    <tr>\n",
       "      <th>1.64</th>\n",
       "      <td>2</td>\n",
       "      <td>4.0</td>\n",
       "      <td>28</td>\n",
       "    </tr>\n",
       "    <tr>\n",
       "      <th>1.57</th>\n",
       "      <td>2</td>\n",
       "      <td>4.0</td>\n",
       "      <td>30</td>\n",
       "    </tr>\n",
       "    <tr>\n",
       "      <th>1.73</th>\n",
       "      <td>2</td>\n",
       "      <td>4.0</td>\n",
       "      <td>32</td>\n",
       "    </tr>\n",
       "    <tr>\n",
       "      <th>1.76</th>\n",
       "      <td>2</td>\n",
       "      <td>4.0</td>\n",
       "      <td>34</td>\n",
       "    </tr>\n",
       "    <tr>\n",
       "      <th>1.69</th>\n",
       "      <td>2</td>\n",
       "      <td>4.0</td>\n",
       "      <td>36</td>\n",
       "    </tr>\n",
       "    <tr>\n",
       "      <th>1.68</th>\n",
       "      <td>2</td>\n",
       "      <td>4.0</td>\n",
       "      <td>38</td>\n",
       "    </tr>\n",
       "    <tr>\n",
       "      <th>1.54</th>\n",
       "      <td>1</td>\n",
       "      <td>2.0</td>\n",
       "      <td>39</td>\n",
       "    </tr>\n",
       "    <tr>\n",
       "      <th>1.82</th>\n",
       "      <td>1</td>\n",
       "      <td>2.0</td>\n",
       "      <td>40</td>\n",
       "    </tr>\n",
       "    <tr>\n",
       "      <th>1.45</th>\n",
       "      <td>1</td>\n",
       "      <td>2.0</td>\n",
       "      <td>41</td>\n",
       "    </tr>\n",
       "    <tr>\n",
       "      <th>1.67</th>\n",
       "      <td>1</td>\n",
       "      <td>2.0</td>\n",
       "      <td>42</td>\n",
       "    </tr>\n",
       "    <tr>\n",
       "      <th>1.63</th>\n",
       "      <td>1</td>\n",
       "      <td>2.0</td>\n",
       "      <td>43</td>\n",
       "    </tr>\n",
       "    <tr>\n",
       "      <th>1.83</th>\n",
       "      <td>1</td>\n",
       "      <td>2.0</td>\n",
       "      <td>44</td>\n",
       "    </tr>\n",
       "    <tr>\n",
       "      <th>1.72</th>\n",
       "      <td>1</td>\n",
       "      <td>2.0</td>\n",
       "      <td>45</td>\n",
       "    </tr>\n",
       "    <tr>\n",
       "      <th>1.66</th>\n",
       "      <td>1</td>\n",
       "      <td>2.0</td>\n",
       "      <td>46</td>\n",
       "    </tr>\n",
       "    <tr>\n",
       "      <th>1.78</th>\n",
       "      <td>1</td>\n",
       "      <td>2.0</td>\n",
       "      <td>47</td>\n",
       "    </tr>\n",
       "    <tr>\n",
       "      <th>1.58</th>\n",
       "      <td>1</td>\n",
       "      <td>2.0</td>\n",
       "      <td>48</td>\n",
       "    </tr>\n",
       "    <tr>\n",
       "      <th>1.71</th>\n",
       "      <td>1</td>\n",
       "      <td>2.0</td>\n",
       "      <td>49</td>\n",
       "    </tr>\n",
       "    <tr>\n",
       "      <th>1.61</th>\n",
       "      <td>1</td>\n",
       "      <td>2.0</td>\n",
       "      <td>50</td>\n",
       "    </tr>\n",
       "  </tbody>\n",
       "</table>\n",
       "</div>"
      ],
      "text/plain": [
       "      Freq Absoluta  Freq Relativa %  Freq Cumulativa\n",
       "1.70              6             12.0                6\n",
       "1.60              5             10.0               11\n",
       "1.65              4              8.0               15\n",
       "1.55              3              6.0               18\n",
       "1.62              3              6.0               21\n",
       "1.85              3              6.0               24\n",
       "1.80              2              4.0               26\n",
       "1.64              2              4.0               28\n",
       "1.57              2              4.0               30\n",
       "1.73              2              4.0               32\n",
       "1.76              2              4.0               34\n",
       "1.69              2              4.0               36\n",
       "1.68              2              4.0               38\n",
       "1.54              1              2.0               39\n",
       "1.82              1              2.0               40\n",
       "1.45              1              2.0               41\n",
       "1.67              1              2.0               42\n",
       "1.63              1              2.0               43\n",
       "1.83              1              2.0               44\n",
       "1.72              1              2.0               45\n",
       "1.66              1              2.0               46\n",
       "1.78              1              2.0               47\n",
       "1.58              1              2.0               48\n",
       "1.71              1              2.0               49\n",
       "1.61              1              2.0               50"
      ]
     },
     "execution_count": 96,
     "metadata": {},
     "output_type": "execute_result"
    }
   ],
   "source": [
    "distribuicaoFrequenciaClasses = {\"Freq Absoluta\": dados3[\"Alt\"].value_counts(), \n",
    "       \"Freq Relativa %\": dados3[\"Alt\"].value_counts(normalize=True)*100,\n",
    "            \"Freq Cumulativa\": np.cumsum(dados3[\"Alt\"].value_counts())}\n",
    "distFrequenciaClasses = pd.DataFrame(distribuicaoFrequenciaClasses)\n",
    "distFrequenciaClasses"
   ]
  },
  {
   "cell_type": "markdown",
   "metadata": {},
   "source": [
    "Frequência de Peso:"
   ]
  },
  {
   "cell_type": "code",
   "execution_count": 97,
   "metadata": {},
   "outputs": [
    {
     "data": {
      "text/plain": [
       "{'Freq Absoluta': 58.0    4\n",
       " 55.0    4\n",
       " 60.0    3\n",
       " 47.0    2\n",
       " 52.0    2\n",
       " 54.5    2\n",
       " 49.0    2\n",
       " 73.0    2\n",
       " 50.0    2\n",
       " 54.0    1\n",
       " 60.5    1\n",
       " 66.0    1\n",
       " 72.8    1\n",
       " 58.5    1\n",
       " 52.5    1\n",
       " 84.0    1\n",
       " 48.0    1\n",
       " 86.0    1\n",
       " 71.0    1\n",
       " 63.0    1\n",
       " 59.0    1\n",
       " 63.5    1\n",
       " 51.6    1\n",
       " 70.0    1\n",
       " 68.5    1\n",
       " 57.0    1\n",
       " 87.0    1\n",
       " 49.2    1\n",
       " 95.0    1\n",
       " 57.8    1\n",
       " 85.2    1\n",
       " 47.4    1\n",
       " 75.0    1\n",
       " 80.9    1\n",
       " 44.0    1\n",
       " 56.0    1\n",
       " Name: Peso, dtype: int64,\n",
       " 'Freq Relativa %': 58.0    8.0\n",
       " 55.0    8.0\n",
       " 60.0    6.0\n",
       " 47.0    4.0\n",
       " 52.0    4.0\n",
       " 54.5    4.0\n",
       " 49.0    4.0\n",
       " 73.0    4.0\n",
       " 50.0    4.0\n",
       " 54.0    2.0\n",
       " 60.5    2.0\n",
       " 66.0    2.0\n",
       " 72.8    2.0\n",
       " 58.5    2.0\n",
       " 52.5    2.0\n",
       " 84.0    2.0\n",
       " 48.0    2.0\n",
       " 86.0    2.0\n",
       " 71.0    2.0\n",
       " 63.0    2.0\n",
       " 59.0    2.0\n",
       " 63.5    2.0\n",
       " 51.6    2.0\n",
       " 70.0    2.0\n",
       " 68.5    2.0\n",
       " 57.0    2.0\n",
       " 87.0    2.0\n",
       " 49.2    2.0\n",
       " 95.0    2.0\n",
       " 57.8    2.0\n",
       " 85.2    2.0\n",
       " 47.4    2.0\n",
       " 75.0    2.0\n",
       " 80.9    2.0\n",
       " 44.0    2.0\n",
       " 56.0    2.0\n",
       " Name: Peso, dtype: float64,\n",
       " 'Freq Cumulativa': 58.0     4\n",
       " 55.0     8\n",
       " 60.0    11\n",
       " 47.0    13\n",
       " 52.0    15\n",
       " 54.5    17\n",
       " 49.0    19\n",
       " 73.0    21\n",
       " 50.0    23\n",
       " 54.0    24\n",
       " 60.5    25\n",
       " 66.0    26\n",
       " 72.8    27\n",
       " 58.5    28\n",
       " 52.5    29\n",
       " 84.0    30\n",
       " 48.0    31\n",
       " 86.0    32\n",
       " 71.0    33\n",
       " 63.0    34\n",
       " 59.0    35\n",
       " 63.5    36\n",
       " 51.6    37\n",
       " 70.0    38\n",
       " 68.5    39\n",
       " 57.0    40\n",
       " 87.0    41\n",
       " 49.2    42\n",
       " 95.0    43\n",
       " 57.8    44\n",
       " 85.2    45\n",
       " 47.4    46\n",
       " 75.0    47\n",
       " 80.9    48\n",
       " 44.0    49\n",
       " 56.0    50\n",
       " Name: Peso, dtype: int64}"
      ]
     },
     "execution_count": 97,
     "metadata": {},
     "output_type": "execute_result"
    }
   ],
   "source": [
    "distribuicaoFrequenciaClasses = {\"Freq Absoluta\": dados3[\"Peso\"].value_counts(), \n",
    "       \"Freq Relativa %\": dados3[\"Peso\"].value_counts(normalize=True)*100,\n",
    "            \"Freq Cumulativa\": np.cumsum(dados3[\"Peso\"].value_counts())}\n",
    "distFrequenciaClasses = pd.DataFrame(distribuicaoFrequenciaClasses)\n",
    "distribuicaoFrequenciaClasses"
   ]
  },
  {
   "cell_type": "markdown",
   "metadata": {},
   "source": [
    "Frequência de Filhos:"
   ]
  },
  {
   "cell_type": "code",
   "execution_count": 98,
   "metadata": {},
   "outputs": [
    {
     "data": {
      "text/html": [
       "<div>\n",
       "<style scoped>\n",
       "    .dataframe tbody tr th:only-of-type {\n",
       "        vertical-align: middle;\n",
       "    }\n",
       "\n",
       "    .dataframe tbody tr th {\n",
       "        vertical-align: top;\n",
       "    }\n",
       "\n",
       "    .dataframe thead th {\n",
       "        text-align: right;\n",
       "    }\n",
       "</style>\n",
       "<table border=\"1\" class=\"dataframe\">\n",
       "  <thead>\n",
       "    <tr style=\"text-align: right;\">\n",
       "      <th></th>\n",
       "      <th>Freq Absoluta</th>\n",
       "      <th>Freq Relativa %</th>\n",
       "      <th>Freq Cumulativa</th>\n",
       "    </tr>\n",
       "  </thead>\n",
       "  <tbody>\n",
       "    <tr>\n",
       "      <th>1</th>\n",
       "      <td>28</td>\n",
       "      <td>56.0</td>\n",
       "      <td>28</td>\n",
       "    </tr>\n",
       "    <tr>\n",
       "      <th>2</th>\n",
       "      <td>14</td>\n",
       "      <td>28.0</td>\n",
       "      <td>42</td>\n",
       "    </tr>\n",
       "    <tr>\n",
       "      <th>3</th>\n",
       "      <td>6</td>\n",
       "      <td>12.0</td>\n",
       "      <td>48</td>\n",
       "    </tr>\n",
       "    <tr>\n",
       "      <th>4</th>\n",
       "      <td>1</td>\n",
       "      <td>2.0</td>\n",
       "      <td>49</td>\n",
       "    </tr>\n",
       "    <tr>\n",
       "      <th>7</th>\n",
       "      <td>1</td>\n",
       "      <td>2.0</td>\n",
       "      <td>50</td>\n",
       "    </tr>\n",
       "  </tbody>\n",
       "</table>\n",
       "</div>"
      ],
      "text/plain": [
       "   Freq Absoluta  Freq Relativa %  Freq Cumulativa\n",
       "1             28             56.0               28\n",
       "2             14             28.0               42\n",
       "3              6             12.0               48\n",
       "4              1              2.0               49\n",
       "7              1              2.0               50"
      ]
     },
     "execution_count": 98,
     "metadata": {},
     "output_type": "execute_result"
    }
   ],
   "source": [
    "frequenciaFilhos = {\"Freq Absoluta\": dados3[\"Filhos\"].value_counts(), \n",
    "       \"Freq Relativa %\": dados3[\"Filhos\"].value_counts(normalize=True)*100,\n",
    "            \"Freq Cumulativa\": np.cumsum(dados3[\"Filhos\"].value_counts())}\n",
    "freqFilhos = pd.DataFrame(frequenciaFilhos)\n",
    "freqFilhos"
   ]
  },
  {
   "cell_type": "markdown",
   "metadata": {},
   "source": [
    "Frequência de Fumar:"
   ]
  },
  {
   "cell_type": "code",
   "execution_count": 99,
   "metadata": {},
   "outputs": [
    {
     "data": {
      "text/html": [
       "<div>\n",
       "<style scoped>\n",
       "    .dataframe tbody tr th:only-of-type {\n",
       "        vertical-align: middle;\n",
       "    }\n",
       "\n",
       "    .dataframe tbody tr th {\n",
       "        vertical-align: top;\n",
       "    }\n",
       "\n",
       "    .dataframe thead th {\n",
       "        text-align: right;\n",
       "    }\n",
       "</style>\n",
       "<table border=\"1\" class=\"dataframe\">\n",
       "  <thead>\n",
       "    <tr style=\"text-align: right;\">\n",
       "      <th></th>\n",
       "      <th>Freq Absoluta</th>\n",
       "      <th>Freq Relativa %</th>\n",
       "      <th>Freq Cumulativa</th>\n",
       "    </tr>\n",
       "  </thead>\n",
       "  <tbody>\n",
       "    <tr>\n",
       "      <th>NAO</th>\n",
       "      <td>44</td>\n",
       "      <td>88.0</td>\n",
       "      <td>44</td>\n",
       "    </tr>\n",
       "    <tr>\n",
       "      <th>SIM</th>\n",
       "      <td>6</td>\n",
       "      <td>12.0</td>\n",
       "      <td>50</td>\n",
       "    </tr>\n",
       "  </tbody>\n",
       "</table>\n",
       "</div>"
      ],
      "text/plain": [
       "     Freq Absoluta  Freq Relativa %  Freq Cumulativa\n",
       "NAO             44             88.0               44\n",
       "SIM              6             12.0               50"
      ]
     },
     "execution_count": 99,
     "metadata": {},
     "output_type": "execute_result"
    }
   ],
   "source": [
    "freq_fuma = {\"Freq Absoluta\": dados3[\"Fuma\"].value_counts(), \n",
    "       \"Freq Relativa %\": dados3[\"Fuma\"].value_counts(normalize=True)*100,\n",
    "            \"Freq Cumulativa\": np.cumsum(dados3[\"Fuma\"].value_counts())}\n",
    "freqFuma = pd.DataFrame(freq_fuma)\n",
    "freqFuma"
   ]
  },
  {
   "cell_type": "markdown",
   "metadata": {},
   "source": [
    "Frequência de Toler:"
   ]
  },
  {
   "cell_type": "code",
   "execution_count": 100,
   "metadata": {},
   "outputs": [
    {
     "data": {
      "text/html": [
       "<div>\n",
       "<style scoped>\n",
       "    .dataframe tbody tr th:only-of-type {\n",
       "        vertical-align: middle;\n",
       "    }\n",
       "\n",
       "    .dataframe tbody tr th {\n",
       "        vertical-align: top;\n",
       "    }\n",
       "\n",
       "    .dataframe thead th {\n",
       "        text-align: right;\n",
       "    }\n",
       "</style>\n",
       "<table border=\"1\" class=\"dataframe\">\n",
       "  <thead>\n",
       "    <tr style=\"text-align: right;\">\n",
       "      <th></th>\n",
       "      <th>Freq Absoluta</th>\n",
       "      <th>Freq Relativa %</th>\n",
       "      <th>Freq Cumulativa</th>\n",
       "    </tr>\n",
       "  </thead>\n",
       "  <tbody>\n",
       "    <tr>\n",
       "      <th>P</th>\n",
       "      <td>21</td>\n",
       "      <td>42.0</td>\n",
       "      <td>21</td>\n",
       "    </tr>\n",
       "    <tr>\n",
       "      <th>M</th>\n",
       "      <td>19</td>\n",
       "      <td>38.0</td>\n",
       "      <td>40</td>\n",
       "    </tr>\n",
       "    <tr>\n",
       "      <th>I</th>\n",
       "      <td>10</td>\n",
       "      <td>20.0</td>\n",
       "      <td>50</td>\n",
       "    </tr>\n",
       "  </tbody>\n",
       "</table>\n",
       "</div>"
      ],
      "text/plain": [
       "   Freq Absoluta  Freq Relativa %  Freq Cumulativa\n",
       "P             21             42.0               21\n",
       "M             19             38.0               40\n",
       "I             10             20.0               50"
      ]
     },
     "execution_count": 100,
     "metadata": {},
     "output_type": "execute_result"
    }
   ],
   "source": [
    "frequenciaToler = {\"Freq Absoluta\": dados3[\"Toler\"].value_counts(), \n",
    "       \"Freq Relativa %\": dados3[\"Toler\"].value_counts(normalize=True)*100,\n",
    "            \"Freq Cumulativa\": np.cumsum(dados3[\"Toler\"].value_counts())}\n",
    "freqToler = pd.DataFrame(frequenciaToler)\n",
    "freqToler"
   ]
  },
  {
   "cell_type": "markdown",
   "metadata": {},
   "source": [
    "Frequência de Exerc:"
   ]
  },
  {
   "cell_type": "code",
   "execution_count": 101,
   "metadata": {},
   "outputs": [
    {
     "data": {
      "text/html": [
       "<div>\n",
       "<style scoped>\n",
       "    .dataframe tbody tr th:only-of-type {\n",
       "        vertical-align: middle;\n",
       "    }\n",
       "\n",
       "    .dataframe tbody tr th {\n",
       "        vertical-align: top;\n",
       "    }\n",
       "\n",
       "    .dataframe thead th {\n",
       "        text-align: right;\n",
       "    }\n",
       "</style>\n",
       "<table border=\"1\" class=\"dataframe\">\n",
       "  <thead>\n",
       "    <tr style=\"text-align: right;\">\n",
       "      <th></th>\n",
       "      <th>Freq Absoluta</th>\n",
       "      <th>Freq Relativa %</th>\n",
       "      <th>Freq Cumulativa</th>\n",
       "    </tr>\n",
       "  </thead>\n",
       "  <tbody>\n",
       "    <tr>\n",
       "      <th>0</th>\n",
       "      <td>8</td>\n",
       "      <td>16.0</td>\n",
       "      <td>8</td>\n",
       "    </tr>\n",
       "    <tr>\n",
       "      <th>2</th>\n",
       "      <td>8</td>\n",
       "      <td>16.0</td>\n",
       "      <td>16</td>\n",
       "    </tr>\n",
       "    <tr>\n",
       "      <th>5</th>\n",
       "      <td>8</td>\n",
       "      <td>16.0</td>\n",
       "      <td>24</td>\n",
       "    </tr>\n",
       "    <tr>\n",
       "      <th>3</th>\n",
       "      <td>6</td>\n",
       "      <td>12.0</td>\n",
       "      <td>30</td>\n",
       "    </tr>\n",
       "    <tr>\n",
       "      <th>7</th>\n",
       "      <td>5</td>\n",
       "      <td>10.0</td>\n",
       "      <td>35</td>\n",
       "    </tr>\n",
       "    <tr>\n",
       "      <th>4</th>\n",
       "      <td>4</td>\n",
       "      <td>8.0</td>\n",
       "      <td>39</td>\n",
       "    </tr>\n",
       "    <tr>\n",
       "      <th>1</th>\n",
       "      <td>3</td>\n",
       "      <td>6.0</td>\n",
       "      <td>42</td>\n",
       "    </tr>\n",
       "    <tr>\n",
       "      <th>6</th>\n",
       "      <td>3</td>\n",
       "      <td>6.0</td>\n",
       "      <td>45</td>\n",
       "    </tr>\n",
       "    <tr>\n",
       "      <th>8</th>\n",
       "      <td>3</td>\n",
       "      <td>6.0</td>\n",
       "      <td>48</td>\n",
       "    </tr>\n",
       "    <tr>\n",
       "      <th>10</th>\n",
       "      <td>2</td>\n",
       "      <td>4.0</td>\n",
       "      <td>50</td>\n",
       "    </tr>\n",
       "  </tbody>\n",
       "</table>\n",
       "</div>"
      ],
      "text/plain": [
       "    Freq Absoluta  Freq Relativa %  Freq Cumulativa\n",
       "0               8             16.0                8\n",
       "2               8             16.0               16\n",
       "5               8             16.0               24\n",
       "3               6             12.0               30\n",
       "7               5             10.0               35\n",
       "4               4              8.0               39\n",
       "1               3              6.0               42\n",
       "6               3              6.0               45\n",
       "8               3              6.0               48\n",
       "10              2              4.0               50"
      ]
     },
     "execution_count": 101,
     "metadata": {},
     "output_type": "execute_result"
    }
   ],
   "source": [
    "frequenciaExerc = {\"Freq Absoluta\": dados3[\"Exerc\"].value_counts(), \n",
    "       \"Freq Relativa %\": dados3[\"Exerc\"].value_counts(normalize=True)*100,\n",
    "            \"Freq Cumulativa\": np.cumsum(dados3[\"Exerc\"].value_counts())}\n",
    "freqExerc = pd.DataFrame (frequenciaExerc)\n",
    "freqExerc"
   ]
  },
  {
   "cell_type": "markdown",
   "metadata": {},
   "source": [
    "Frequência de Cine:"
   ]
  },
  {
   "cell_type": "code",
   "execution_count": 102,
   "metadata": {},
   "outputs": [
    {
     "data": {
      "text/html": [
       "<div>\n",
       "<style scoped>\n",
       "    .dataframe tbody tr th:only-of-type {\n",
       "        vertical-align: middle;\n",
       "    }\n",
       "\n",
       "    .dataframe tbody tr th {\n",
       "        vertical-align: top;\n",
       "    }\n",
       "\n",
       "    .dataframe thead th {\n",
       "        text-align: right;\n",
       "    }\n",
       "</style>\n",
       "<table border=\"1\" class=\"dataframe\">\n",
       "  <thead>\n",
       "    <tr style=\"text-align: right;\">\n",
       "      <th></th>\n",
       "      <th>Freq Absoluta</th>\n",
       "      <th>Freq Relativa %</th>\n",
       "      <th>Freq Cumulativa</th>\n",
       "    </tr>\n",
       "  </thead>\n",
       "  <tbody>\n",
       "    <tr>\n",
       "      <th>1</th>\n",
       "      <td>21</td>\n",
       "      <td>42.0</td>\n",
       "      <td>21</td>\n",
       "    </tr>\n",
       "    <tr>\n",
       "      <th>2</th>\n",
       "      <td>18</td>\n",
       "      <td>36.0</td>\n",
       "      <td>39</td>\n",
       "    </tr>\n",
       "    <tr>\n",
       "      <th>4</th>\n",
       "      <td>4</td>\n",
       "      <td>8.0</td>\n",
       "      <td>43</td>\n",
       "    </tr>\n",
       "    <tr>\n",
       "      <th>0</th>\n",
       "      <td>3</td>\n",
       "      <td>6.0</td>\n",
       "      <td>46</td>\n",
       "    </tr>\n",
       "    <tr>\n",
       "      <th>3</th>\n",
       "      <td>3</td>\n",
       "      <td>6.0</td>\n",
       "      <td>49</td>\n",
       "    </tr>\n",
       "    <tr>\n",
       "      <th>5</th>\n",
       "      <td>1</td>\n",
       "      <td>2.0</td>\n",
       "      <td>50</td>\n",
       "    </tr>\n",
       "  </tbody>\n",
       "</table>\n",
       "</div>"
      ],
      "text/plain": [
       "   Freq Absoluta  Freq Relativa %  Freq Cumulativa\n",
       "1             21             42.0               21\n",
       "2             18             36.0               39\n",
       "4              4              8.0               43\n",
       "0              3              6.0               46\n",
       "3              3              6.0               49\n",
       "5              1              2.0               50"
      ]
     },
     "execution_count": 102,
     "metadata": {},
     "output_type": "execute_result"
    }
   ],
   "source": [
    "frequenciaCine = {\"Freq Absoluta\": dados3[\"Cine\"].value_counts(), \n",
    "       \"Freq Relativa %\": dados3[\"Cine\"].value_counts(normalize=True)*100,\n",
    "            \"Freq Cumulativa\": np.cumsum(dados3[\"Cine\"].value_counts())}\n",
    "freqCine = pd.DataFrame (frequenciaCine)\n",
    "freqCine"
   ]
  },
  {
   "cell_type": "markdown",
   "metadata": {},
   "source": [
    "Frequência de OpCine:"
   ]
  },
  {
   "cell_type": "code",
   "execution_count": 103,
   "metadata": {},
   "outputs": [
    {
     "data": {
      "text/html": [
       "<div>\n",
       "<style scoped>\n",
       "    .dataframe tbody tr th:only-of-type {\n",
       "        vertical-align: middle;\n",
       "    }\n",
       "\n",
       "    .dataframe tbody tr th {\n",
       "        vertical-align: top;\n",
       "    }\n",
       "\n",
       "    .dataframe thead th {\n",
       "        text-align: right;\n",
       "    }\n",
       "</style>\n",
       "<table border=\"1\" class=\"dataframe\">\n",
       "  <thead>\n",
       "    <tr style=\"text-align: right;\">\n",
       "      <th></th>\n",
       "      <th>Freq Absoluta</th>\n",
       "      <th>Freq Relativa %</th>\n",
       "      <th>Freq Cumulativa</th>\n",
       "    </tr>\n",
       "  </thead>\n",
       "  <tbody>\n",
       "    <tr>\n",
       "      <th>B</th>\n",
       "      <td>32</td>\n",
       "      <td>64.0</td>\n",
       "      <td>32</td>\n",
       "    </tr>\n",
       "    <tr>\n",
       "      <th>M</th>\n",
       "      <td>18</td>\n",
       "      <td>36.0</td>\n",
       "      <td>50</td>\n",
       "    </tr>\n",
       "  </tbody>\n",
       "</table>\n",
       "</div>"
      ],
      "text/plain": [
       "   Freq Absoluta  Freq Relativa %  Freq Cumulativa\n",
       "B             32             64.0               32\n",
       "M             18             36.0               50"
      ]
     },
     "execution_count": 103,
     "metadata": {},
     "output_type": "execute_result"
    }
   ],
   "source": [
    "frequenciaOpcine = {\"Freq Absoluta\": dados3[\"OpCine\"].value_counts(), \n",
    "       \"Freq Relativa %\": dados3[\"OpCine\"].value_counts(normalize=True)*100,\n",
    "            \"Freq Cumulativa\": np.cumsum(dados3[\"OpCine\"].value_counts())}\n",
    "freqOpCine = pd.DataFrame(frequenciaOpcine)\n",
    "freqOpCine"
   ]
  },
  {
   "cell_type": "markdown",
   "metadata": {},
   "source": [
    "Frequência de TV:"
   ]
  },
  {
   "cell_type": "code",
   "execution_count": 104,
   "metadata": {},
   "outputs": [
    {
     "data": {
      "text/html": [
       "<div>\n",
       "<style scoped>\n",
       "    .dataframe tbody tr th:only-of-type {\n",
       "        vertical-align: middle;\n",
       "    }\n",
       "\n",
       "    .dataframe tbody tr th {\n",
       "        vertical-align: top;\n",
       "    }\n",
       "\n",
       "    .dataframe thead th {\n",
       "        text-align: right;\n",
       "    }\n",
       "</style>\n",
       "<table border=\"1\" class=\"dataframe\">\n",
       "  <thead>\n",
       "    <tr style=\"text-align: right;\">\n",
       "      <th></th>\n",
       "      <th>Freq Absoluta</th>\n",
       "      <th>Freq Relativa %</th>\n",
       "      <th>Freq Cumulativa</th>\n",
       "    </tr>\n",
       "  </thead>\n",
       "  <tbody>\n",
       "    <tr>\n",
       "      <th>10</th>\n",
       "      <td>11</td>\n",
       "      <td>22.0</td>\n",
       "      <td>11</td>\n",
       "    </tr>\n",
       "    <tr>\n",
       "      <th>5</th>\n",
       "      <td>7</td>\n",
       "      <td>14.0</td>\n",
       "      <td>18</td>\n",
       "    </tr>\n",
       "    <tr>\n",
       "      <th>14</th>\n",
       "      <td>5</td>\n",
       "      <td>10.0</td>\n",
       "      <td>23</td>\n",
       "    </tr>\n",
       "    <tr>\n",
       "      <th>12</th>\n",
       "      <td>4</td>\n",
       "      <td>8.0</td>\n",
       "      <td>27</td>\n",
       "    </tr>\n",
       "    <tr>\n",
       "      <th>2</th>\n",
       "      <td>4</td>\n",
       "      <td>8.0</td>\n",
       "      <td>31</td>\n",
       "    </tr>\n",
       "    <tr>\n",
       "      <th>20</th>\n",
       "      <td>3</td>\n",
       "      <td>6.0</td>\n",
       "      <td>34</td>\n",
       "    </tr>\n",
       "    <tr>\n",
       "      <th>8</th>\n",
       "      <td>3</td>\n",
       "      <td>6.0</td>\n",
       "      <td>37</td>\n",
       "    </tr>\n",
       "    <tr>\n",
       "      <th>25</th>\n",
       "      <td>2</td>\n",
       "      <td>4.0</td>\n",
       "      <td>39</td>\n",
       "    </tr>\n",
       "    <tr>\n",
       "      <th>7</th>\n",
       "      <td>2</td>\n",
       "      <td>4.0</td>\n",
       "      <td>41</td>\n",
       "    </tr>\n",
       "    <tr>\n",
       "      <th>16</th>\n",
       "      <td>1</td>\n",
       "      <td>2.0</td>\n",
       "      <td>42</td>\n",
       "    </tr>\n",
       "    <tr>\n",
       "      <th>28</th>\n",
       "      <td>1</td>\n",
       "      <td>2.0</td>\n",
       "      <td>43</td>\n",
       "    </tr>\n",
       "    <tr>\n",
       "      <th>18</th>\n",
       "      <td>1</td>\n",
       "      <td>2.0</td>\n",
       "      <td>44</td>\n",
       "    </tr>\n",
       "    <tr>\n",
       "      <th>0</th>\n",
       "      <td>1</td>\n",
       "      <td>2.0</td>\n",
       "      <td>45</td>\n",
       "    </tr>\n",
       "    <tr>\n",
       "      <th>15</th>\n",
       "      <td>1</td>\n",
       "      <td>2.0</td>\n",
       "      <td>46</td>\n",
       "    </tr>\n",
       "    <tr>\n",
       "      <th>6</th>\n",
       "      <td>1</td>\n",
       "      <td>2.0</td>\n",
       "      <td>47</td>\n",
       "    </tr>\n",
       "    <tr>\n",
       "      <th>4</th>\n",
       "      <td>1</td>\n",
       "      <td>2.0</td>\n",
       "      <td>48</td>\n",
       "    </tr>\n",
       "    <tr>\n",
       "      <th>3</th>\n",
       "      <td>1</td>\n",
       "      <td>2.0</td>\n",
       "      <td>49</td>\n",
       "    </tr>\n",
       "    <tr>\n",
       "      <th>30</th>\n",
       "      <td>1</td>\n",
       "      <td>2.0</td>\n",
       "      <td>50</td>\n",
       "    </tr>\n",
       "  </tbody>\n",
       "</table>\n",
       "</div>"
      ],
      "text/plain": [
       "    Freq Absoluta  Freq Relativa %  Freq Cumulativa\n",
       "10             11             22.0               11\n",
       "5               7             14.0               18\n",
       "14              5             10.0               23\n",
       "12              4              8.0               27\n",
       "2               4              8.0               31\n",
       "20              3              6.0               34\n",
       "8               3              6.0               37\n",
       "25              2              4.0               39\n",
       "7               2              4.0               41\n",
       "16              1              2.0               42\n",
       "28              1              2.0               43\n",
       "18              1              2.0               44\n",
       "0               1              2.0               45\n",
       "15              1              2.0               46\n",
       "6               1              2.0               47\n",
       "4               1              2.0               48\n",
       "3               1              2.0               49\n",
       "30              1              2.0               50"
      ]
     },
     "execution_count": 104,
     "metadata": {},
     "output_type": "execute_result"
    }
   ],
   "source": [
    "frequenciatv = {\"Freq Absoluta\": dados3[\"TV\"].value_counts(), \n",
    "       \"Freq Relativa %\": dados3[\"TV\"].value_counts(normalize=True)*100,\n",
    "            \"Freq Cumulativa\": np.cumsum(dados3[\"TV\"].value_counts())}\n",
    "freqaTV = pd.DataFrame (frequenciatv)\n",
    "freqaTV"
   ]
  },
  {
   "cell_type": "markdown",
   "metadata": {},
   "source": [
    "Frequência da variável \"OpTV\":"
   ]
  },
  {
   "cell_type": "code",
   "execution_count": 105,
   "metadata": {},
   "outputs": [
    {
     "data": {
      "text/html": [
       "<div>\n",
       "<style scoped>\n",
       "    .dataframe tbody tr th:only-of-type {\n",
       "        vertical-align: middle;\n",
       "    }\n",
       "\n",
       "    .dataframe tbody tr th {\n",
       "        vertical-align: top;\n",
       "    }\n",
       "\n",
       "    .dataframe thead th {\n",
       "        text-align: right;\n",
       "    }\n",
       "</style>\n",
       "<table border=\"1\" class=\"dataframe\">\n",
       "  <thead>\n",
       "    <tr style=\"text-align: right;\">\n",
       "      <th></th>\n",
       "      <th>Freq Absoluta</th>\n",
       "      <th>Freq Relativa %</th>\n",
       "      <th>Freq Cumulativa</th>\n",
       "    </tr>\n",
       "  </thead>\n",
       "  <tbody>\n",
       "    <tr>\n",
       "      <th>R</th>\n",
       "      <td>39</td>\n",
       "      <td>78.0</td>\n",
       "      <td>39</td>\n",
       "    </tr>\n",
       "    <tr>\n",
       "      <th>N</th>\n",
       "      <td>7</td>\n",
       "      <td>14.0</td>\n",
       "      <td>46</td>\n",
       "    </tr>\n",
       "    <tr>\n",
       "      <th>B</th>\n",
       "      <td>3</td>\n",
       "      <td>6.0</td>\n",
       "      <td>49</td>\n",
       "    </tr>\n",
       "    <tr>\n",
       "      <th>M</th>\n",
       "      <td>1</td>\n",
       "      <td>2.0</td>\n",
       "      <td>50</td>\n",
       "    </tr>\n",
       "  </tbody>\n",
       "</table>\n",
       "</div>"
      ],
      "text/plain": [
       "   Freq Absoluta  Freq Relativa %  Freq Cumulativa\n",
       "R             39             78.0               39\n",
       "N              7             14.0               46\n",
       "B              3              6.0               49\n",
       "M              1              2.0               50"
      ]
     },
     "execution_count": 105,
     "metadata": {},
     "output_type": "execute_result"
    }
   ],
   "source": [
    "frequenciaOptv = {\"Freq Absoluta\": dados3[\"OpTV\"].value_counts(), \n",
    "       \"Freq Relativa %\": dados3[\"OpTV\"].value_counts(normalize=True)*100,\n",
    "            \"Freq Cumulativa\": np.cumsum(dados3[\"OpTV\"].value_counts())}\n",
    "freqOpTV= pd.DataFrame(frequenciaOptv)\n",
    "freqOpTV"
   ]
  },
  {
   "cell_type": "markdown",
   "metadata": {},
   "source": [
    "<div class=\"alert alert-success\">\n",
    "C)\n",
    "</div>"
   ]
  },
  {
   "cell_type": "code",
   "execution_count": 106,
   "metadata": {},
   "outputs": [
    {
     "data": {
      "image/png": "[encoded data removed]",
      "text/plain": [
       "<Figure size 432x288 with 1 Axes>"
      ]
     },
     "metadata": {
      "needs_background": "light"
     },
     "output_type": "display_data"
    }
   ],
   "source": [
    "dados3[\"Turma\"].value_counts(ascending = True).plot.bar(title = \"Turma\")\n",
    "plt.grid()"
   ]
  },
  {
   "cell_type": "code",
   "execution_count": 107,
   "metadata": {},
   "outputs": [
    {
     "data": {
      "image/png": "[encoded data removed]",
      "text/plain": [
       "<Figure size 432x288 with 1 Axes>"
      ]
     },
     "metadata": {
      "needs_background": "light"
     },
     "output_type": "display_data"
    }
   ],
   "source": [
    "dados3[\"Sexo\"].value_counts(ascending = True).plot.bar(title = \"Sexo\")\n",
    "plt.grid()"
   ]
  },
  {
   "cell_type": "code",
   "execution_count": 108,
   "metadata": {},
   "outputs": [
    {
     "data": {
      "image/png": "[encoded data removed]",
      "text/plain": [
       "<Figure size 432x288 with 1 Axes>"
      ]
     },
     "metadata": {
      "needs_background": "light"
     },
     "output_type": "display_data"
    }
   ],
   "source": [
    "f3, classes3, x = plt.hist(dados3[\"Idade\"],bins = \"auto\")\n",
    "plt.xticks(classes3)\n",
    "plt.yticks(f3)\n",
    "plt.grid()"
   ]
  },
  {
   "cell_type": "code",
   "execution_count": 109,
   "metadata": {},
   "outputs": [
    {
     "data": {
      "image/png": "[encoded data removed]",
      "text/plain": [
       "<Figure size 432x288 with 1 Axes>"
      ]
     },
     "metadata": {
      "needs_background": "light"
     },
     "output_type": "display_data"
    }
   ],
   "source": [
    "f4, classes4, x = plt.hist(dados3[\"Alt\"],bins = \"auto\")\n",
    "plt.xticks(classes4)\n",
    "plt.yticks(f4)\n",
    "plt.grid()"
   ]
  },
  {
   "cell_type": "code",
   "execution_count": 110,
   "metadata": {},
   "outputs": [
    {
     "data": {
      "image/png": "[encoded data removed]",
      "text/plain": [
       "<Figure size 432x288 with 1 Axes>"
      ]
     },
     "metadata": {
      "needs_background": "light"
     },
     "output_type": "display_data"
    }
   ],
   "source": [
    "f5, classes5, x = plt.hist(dados3[\"Peso\"],bins = \"auto\")\n",
    "plt.xticks(classes5)\n",
    "plt.yticks(f5)\n",
    "plt.grid()"
   ]
  },
  {
   "cell_type": "code",
   "execution_count": 111,
   "metadata": {},
   "outputs": [
    {
     "data": {
      "image/png": "[encoded data removed]",
      "text/plain": [
       "<Figure size 432x288 with 1 Axes>"
      ]
     },
     "metadata": {
      "needs_background": "light"
     },
     "output_type": "display_data"
    }
   ],
   "source": [
    "f6, classes6, x = plt.hist(dados3[\"Filhos\"],bins = \"auto\")\n",
    "plt.xticks(classes6)\n",
    "plt.yticks(f6)\n",
    "plt.grid()"
   ]
  },
  {
   "cell_type": "code",
   "execution_count": 112,
   "metadata": {},
   "outputs": [
    {
     "data": {
      "image/png": "[encoded data removed]",
      "text/plain": [
       "<Figure size 432x288 with 1 Axes>"
      ]
     },
     "metadata": {
      "needs_background": "light"
     },
     "output_type": "display_data"
    }
   ],
   "source": [
    "dados3[\"Fuma\"].value_counts(ascending = True).plot.bar(title = \"Fuma\")\n",
    "plt.grid()"
   ]
  },
  {
   "cell_type": "code",
   "execution_count": 113,
   "metadata": {},
   "outputs": [
    {
     "data": {
      "image/png": "[encoded data removed]",
      "text/plain": [
       "<Figure size 432x288 with 1 Axes>"
      ]
     },
     "metadata": {
      "needs_background": "light"
     },
     "output_type": "display_data"
    }
   ],
   "source": [
    "dados3[\"Toler\"].value_counts(ascending = True).plot.bar(title = \"Toler\")\n",
    "plt.grid()"
   ]
  },
  {
   "cell_type": "code",
   "execution_count": 114,
   "metadata": {},
   "outputs": [
    {
     "data": {
      "image/png": "[encoded data removed]",
      "text/plain": [
       "<Figure size 432x288 with 1 Axes>"
      ]
     },
     "metadata": {
      "needs_background": "light"
     },
     "output_type": "display_data"
    }
   ],
   "source": [
    "f7, classes7, x = plt.hist(dados3[\"Exerc\"],bins = \"auto\")\n",
    "plt.xticks(classes7)\n",
    "plt.yticks(f7)\n",
    "plt.grid()"
   ]
  },
  {
   "cell_type": "code",
   "execution_count": 115,
   "metadata": {},
   "outputs": [
    {
     "data": {
      "image/png": "[encoded data removed]",
      "text/plain": [
       "<Figure size 432x288 with 1 Axes>"
      ]
     },
     "metadata": {
      "needs_background": "light"
     },
     "output_type": "display_data"
    }
   ],
   "source": [
    "f8, classes8, x = plt.hist(dados3[\"Cine\"],bins = \"auto\")\n",
    "plt.xticks(classes8)\n",
    "plt.yticks(f8)\n",
    "plt.grid()"
   ]
  },
  {
   "cell_type": "code",
   "execution_count": 116,
   "metadata": {},
   "outputs": [
    {
     "data": {
      "image/png": "[encoded data removed]",
      "text/plain": [
       "<Figure size 432x288 with 1 Axes>"
      ]
     },
     "metadata": {
      "needs_background": "light"
     },
     "output_type": "display_data"
    }
   ],
   "source": [
    "dados3[\"OpCine\"].value_counts(ascending = True).plot.bar(title = \"OpCine\")\n",
    "plt.grid()"
   ]
  },
  {
   "cell_type": "code",
   "execution_count": 117,
   "metadata": {},
   "outputs": [
    {
     "data": {
      "image/png": "[encoded data removed]",
      "text/plain": [
       "<Figure size 432x288 with 1 Axes>"
      ]
     },
     "metadata": {
      "needs_background": "light"
     },
     "output_type": "display_data"
    }
   ],
   "source": [
    "f9, classes9, x = plt.hist(dados3[\"TV\"],bins = \"auto\")\n",
    "plt.xticks(classes9)\n",
    "plt.yticks(f9)\n",
    "plt.grid()"
   ]
  },
  {
   "cell_type": "code",
   "execution_count": 118,
   "metadata": {},
   "outputs": [
    {
     "data": {
      "image/png": "[encoded data removed]",
      "text/plain": [
       "<Figure size 432x288 with 1 Axes>"
      ]
     },
     "metadata": {
      "needs_background": "light"
     },
     "output_type": "display_data"
    }
   ],
   "source": [
    "dados3[\"OpTV\"].value_counts(ascending = True).plot.bar(title = \"OpTV\")\n",
    "plt.grid()"
   ]
  },
  {
   "cell_type": "markdown",
   "metadata": {},
   "source": [
    "Richard Ferreira Salviano"
   ]
  }
 ],
 "metadata": {
  "kernelspec": {
   "display_name": "Python 3",
   "language": "python",
   "name": "python3"
  },
  "language_info": {
   "codemirror_mode": {
    "name": "ipython",
    "version": 3
   },
   "file_extension": ".py",
   "mimetype": "text/x-python",
   "name": "python",
   "nbconvert_exporter": "python",
   "pygments_lexer": "ipython3",
   "version": "3.8.8"
  }
 },
 "nbformat": 4,
 "nbformat_minor": 4
}
